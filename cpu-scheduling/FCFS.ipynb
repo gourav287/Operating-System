{
 "cells": [
  {
   "cell_type": "markdown",
   "metadata": {},
   "source": [
    "# FCFS CPU Scheduling\n",
    "\n",
    "The intention of this notebook is to illustrate the FCFS CPU Scheduling Algorithm.\n",
    "FCFS is a non preemptive cpu scheduling algorithm, which means that a process executing at any point of time will only leave CPU after it has executed completely."
   ]
  },
  {
   "cell_type": "code",
   "execution_count": 1,
   "metadata": {},
   "outputs": [],
   "source": [
    "# Function to calculate waiting time\n",
    "# Waiting Time = Turn Around Time - Burst Time\n",
    "def WaitingTime(tat, bt):\n",
    "    \n",
    "    wt = []\n",
    "    \n",
    "    for i in range(len(tat)):\n",
    "    \n",
    "        wt.append(tat[i] - bt[i])\n",
    "    \n",
    "    return wt"
   ]
  },
  {
   "cell_type": "code",
   "execution_count": 2,
   "metadata": {},
   "outputs": [],
   "source": [
    "# Function to calculate Turn Around Time\n",
    "# Turn Around Time = Completion Time - Arrival Time\n",
    "def TurnAroundTime(ct, at):\n",
    "\n",
    "    tat = []\n",
    "    \n",
    "    for i in range(len(ct)):\n",
    "    \n",
    "        tat.append(ct[i] - at[i])\n",
    "    \n",
    "    return tat"
   ]
  },
  {
   "cell_type": "code",
   "execution_count": 3,
   "metadata": {},
   "outputs": [],
   "source": [
    "# Function to calculate the time when a process finishes execution completely\n",
    "def CompletionTime(at, bt):\n",
    "\n",
    "    ct = []\n",
    "    \n",
    "    val = 0\n",
    "    \n",
    "    for i in range(len(at)):\n",
    "    \n",
    "        val = max(0, val - at[i]) + at[i] + bt[i]\n",
    "        \n",
    "        ct.append(val)\n",
    "    \n",
    "    return ct"
   ]
  },
  {
   "cell_type": "code",
   "execution_count": 4,
   "metadata": {},
   "outputs": [],
   "source": [
    "# Function to print the final table with everything calculated\n",
    "def printTable(at, bt, ct, tat, wt):\n",
    "    \n",
    "    print(\"\\nFinal output values are:\")\n",
    "    \n",
    "    index = [\"Process\", \"AT \", \"BT \",\"CT \",\"TAT \", \"WT\"]\n",
    "    \n",
    "    print(*index)\n",
    "    \n",
    "    for i in range(len(at)):\n",
    "    \n",
    "        print(\"   {}    {}   {}   {}   {}   {}\".format(i + 1, at[i], bt[i], ct[i], tat[i], wt[i]))"
   ]
  },
  {
   "cell_type": "code",
   "execution_count": 5,
   "metadata": {},
   "outputs": [
    {
     "name": "stdout",
     "output_type": "stream",
     "text": [
      "0 1 5 6\n",
      "2 2 3 4\n",
      "\n",
      "Final output values are:\n",
      "Process AT  BT  CT  TAT  WT\n",
      "   1    0   2   2   2   0\n",
      "   2    1   2   4   3   1\n",
      "   3    5   3   8   3   0\n",
      "   4    6   4   12   6   2\n"
     ]
    }
   ],
   "source": [
    "# The driver code\n",
    "if __name__ == '__main__':\n",
    "    \n",
    "    #Input arrival times\n",
    "    at = list(map(int, input().split()))\n",
    "    \n",
    "    #Input burst times\n",
    "    bt = list(map(int, input().split()))\n",
    "    \n",
    "    # Call function to calculate completion time\n",
    "    ct = CompletionTime(at, bt)\n",
    "    \n",
    "    #Call function to calculate Turn Around Time\n",
    "    tat = TurnAroundTime(ct, at)\n",
    "    \n",
    "    #Call function to calculate waiting time\n",
    "    wt = WaitingTime(tat, bt)\n",
    "    \n",
    "    #Call function to print the final output\n",
    "    printTable(at, bt, ct, tat, wt)"
   ]
  },
  {
   "cell_type": "code",
   "execution_count": null,
   "metadata": {},
   "outputs": [],
   "source": []
  }
 ],
 "metadata": {
  "kernelspec": {
   "display_name": "Python 3",
   "language": "python",
   "name": "python3"
  },
  "language_info": {
   "codemirror_mode": {
    "name": "ipython",
    "version": 3
   },
   "file_extension": ".py",
   "mimetype": "text/x-python",
   "name": "python",
   "nbconvert_exporter": "python",
   "pygments_lexer": "ipython3",
   "version": "3.6.10"
  }
 },
 "nbformat": 4,
 "nbformat_minor": 2
}
